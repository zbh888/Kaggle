{
 "cells": [
  {
   "cell_type": "code",
   "execution_count": 140,
   "metadata": {
    "id": "Uu-eI9xQA4j6"
   },
   "outputs": [],
   "source": [
    "from numpy import genfromtxt\n",
    "import numpy as np\n",
    "import torch\n",
    "import torch.nn as nn\n",
    "import matplotlib.pyplot as plt\n",
    "from tqdm import tqdm\n",
    "import copy\n",
    "import os\n",
    "import random\n",
    "from torch.utils.data import TensorDataset, DataLoader\n",
    "device = 'cuda' if torch.cuda.is_available() else 'cpu'"
   ]
  },
  {
   "cell_type": "code",
   "execution_count": 142,
   "metadata": {
    "id": "S73dsPLZA4j8"
   },
   "outputs": [],
   "source": [
    "train_x = genfromtxt('train_x.csv', delimiter=',')\n",
    "test_x = genfromtxt('test_x.csv', delimiter=',')\n",
    "train_y = genfromtxt('train_y.csv', delimiter=',')\n",
    "\n",
    "train_y = train_y.T[1]\n",
    "train_x = np.delete(train_x, 0, 1)\n",
    "test_x = np.delete(test_x, 0, 1)\n",
    "\n",
    "CUR_YEAR = 2019\n",
    "\n",
    "M = {'INUSYR' : 0,'NATVTY':1, 'AGE':2 ,'MAR':3,'SEX':4,'MOVE':5,'SPAN':6,'CITSHP':7,'FAMTYP':8,'FAMREL':9,'RACE':10,'RACEAS':11,'RACEPI':12,'MIL':13,'WAGP':14,'SEMP':15,'SSP':16,'SSIP':17,'PAP':18,'RETP':19,'INTP':20,'OIP':21}\n",
    "all_data = np.concatenate((train_x, test_x), axis=0) "
   ]
  },
  {
   "cell_type": "markdown",
   "metadata": {
    "id": "lsXtgElEA4j9"
   },
   "source": [
    "# Data cleaning"
   ]
  },
  {
   "cell_type": "code",
   "execution_count": 143,
   "metadata": {
    "id": "jJpeUHpnA4j-"
   },
   "outputs": [],
   "source": [
    "def clean(d):\n",
    "    data = copy.deepcopy(d)    \n",
    "    n, dim = data.shape\n",
    "    for i in range(dim):\n",
    "        for j in range(n):\n",
    "            if i == M['INUSYR']: # Year the person came to the US\n",
    "                if data[j][i] == -6:\n",
    "                    data[j][i] = CUR_YEAR - data[j][M['AGE']] ## They were born in US\n",
    "                birth = CUR_YEAR - data[j][M['AGE']]\n",
    "                data[j][i] -= birth # At what AGE they came to US\n",
    "            if i == M['MOVE']:\n",
    "                birth = CUR_YEAR - data[j][M['AGE']]\n",
    "                data[j][i] -= birth # At what AGE they move to this address\n",
    "            if i == M['MIL']:\n",
    "                if data[j][i] < 0:\n",
    "                    data[j][i] = 3 # never served\n",
    "            if i == M['CITSHP']:\n",
    "                if data[j][i] < 0:\n",
    "                    data[j][i] = 1 # born in US\n",
    "            if i == M['WAGP']:\n",
    "                if data[j][i] < 0:\n",
    "                    data[j][i] = 0 #\n",
    "                data[j][i] = np.log(data[j][i] + 10000)\n",
    "            if i == M['SEMP']:\n",
    "                data[j][i] = np.log(data[j][i] + 10000)\n",
    "            if i == M['SSP']:\n",
    "                data[j][i] = np.log(data[j][i] + 10000)\n",
    "            if i == M['PAP']:\n",
    "                data[j][i] = np.log(data[j][i] + 10000)\n",
    "            if i == M['RETP']: # potentially adding if retire or not...\n",
    "                data[j][i] = np.log(data[j][i] + 10000)\n",
    "            if i == M['INTP']:\n",
    "                data[j][i] = np.log(data[j][i] + 10000)\n",
    "            if i == M['OIP']:\n",
    "                data[j][i] = np.log(data[j][i] + 10000)\n",
    "            if i == M['SSIP']:\n",
    "                data[j][i] = np.log(data[j][i] + 10000)\n",
    "            \n",
    "    return data"
   ]
  },
  {
   "cell_type": "code",
   "execution_count": 144,
   "metadata": {
    "id": "eWH9PcalA4j_"
   },
   "outputs": [],
   "source": [
    "train_xc = clean(train_x)\n",
    "test_xc = clean(test_x)\n",
    "all_data = clean(all_data).T"
   ]
  },
  {
   "cell_type": "code",
   "execution_count": 145,
   "metadata": {},
   "outputs": [],
   "source": [
    "# writing\n",
    "index = np.array([list(range(len(train_xc)))]).T\n",
    "res = np.concatenate((index,train_xc),axis = 1)\n",
    "np.savetxt('Data_explore.csv', res, delimiter=',', fmt=\"%s\")"
   ]
  },
  {
   "cell_type": "markdown",
   "metadata": {
    "id": "G5Uu5rpOA4kA"
   },
   "source": [
    "# Data process"
   ]
  },
  {
   "cell_type": "code",
   "execution_count": 146,
   "metadata": {
    "id": "6d-_h7GEA4kB"
   },
   "outputs": [],
   "source": [
    "def create_type(category, all_d):\n",
    "    COUNTRY = {}\n",
    "    counter = 0\n",
    "    for each in np.unique(all_d[M[category]]):\n",
    "        COUNTRY[each] = counter\n",
    "        counter += 1\n",
    "    return COUNTRY"
   ]
  },
  {
   "cell_type": "code",
   "execution_count": 147,
   "metadata": {
    "id": "JiDQP9DiA4kC"
   },
   "outputs": [],
   "source": [
    "def process(d, cate_list, all_d, droplist):\n",
    "    data = copy.deepcopy(d)\n",
    "    n, dim = d.shape\n",
    "    dele = []\n",
    "    for s in droplist:\n",
    "        dele.append(M[s])\n",
    "    for category in cate_list:\n",
    "        CATE = create_type(category, all_d)\n",
    "        ONE_HOT = np.zeros((n, len(CATE)))\n",
    "        for j in range(n):\n",
    "            ONE_HOT[j][CATE[data[j][M[category]]]] = 1\n",
    "        data = np.concatenate((data, ONE_HOT), axis = 1)\n",
    "        dele.append(M[category])\n",
    "    \n",
    "    return np.delete(data, dele, 1)"
   ]
  },
  {
   "cell_type": "code",
   "execution_count": 148,
   "metadata": {
    "id": "S3BMoiwkA4kC"
   },
   "outputs": [],
   "source": [
    "C = ['NATVTY','MAR','CITSHP','FAMTYP','FAMREL', 'RACE','RACEAS', 'MIL']\n",
    "D = ['RACEPI']\n",
    "train_xcp = process(train_xc,C, all_data,D)\n",
    "test_xcp = process(test_xc,C, all_data,D)"
   ]
  },
  {
   "cell_type": "markdown",
   "metadata": {
    "id": "YuzCi2ARA4kD"
   },
   "source": [
    "# Feature selection"
   ]
  },
  {
   "cell_type": "code",
   "execution_count": 125,
   "metadata": {
    "colab": {
     "base_uri": "https://localhost:8080/"
    },
    "id": "Zuh7gvSyA4kE",
    "outputId": "1df0de89-807c-4a66-e4c9-8fc7fb318234"
   },
   "outputs": [
    {
     "name": "stdout",
     "output_type": "stream",
     "text": [
      "(73740, 226)\n"
     ]
    }
   ],
   "source": [
    "from sklearn.svm import LinearSVC\n",
    "from sklearn.datasets import load_iris\n",
    "from sklearn.feature_selection import SelectFromModel\n",
    "from sklearn.preprocessing import StandardScaler\n",
    "\n",
    "X = train_xcp\n",
    "y = train_y\n",
    "\n",
    "scaler = StandardScaler()\n",
    "scaler.fit(X)\n",
    "X = scaler.transform(X)\n",
    "X_test = scaler.transform(test_xcp)\n",
    "print(X.shape)"
   ]
  },
  {
   "cell_type": "code",
   "execution_count": 126,
   "metadata": {
    "colab": {
     "base_uri": "https://localhost:8080/"
    },
    "id": "OpKwYqS8A4kF",
    "outputId": "f08a1962-3b2f-4702-e9ee-ba5b536532f8"
   },
   "outputs": [
    {
     "data": {
      "text/plain": [
       "(73740, 81)"
      ]
     },
     "execution_count": 126,
     "metadata": {},
     "output_type": "execute_result"
    }
   ],
   "source": [
    "lsvc = LinearSVC(C=0.001, penalty=\"l1\", dual=False).fit(X, y)\n",
    "model = SelectFromModel(lsvc, prefit=True)\n",
    "X = model.transform(X)\n",
    "X_test = model.transform(X_test)\n",
    "X.shape"
   ]
  },
  {
   "cell_type": "code",
   "execution_count": 127,
   "metadata": {
    "id": "M545RXZOA4kG"
   },
   "outputs": [],
   "source": [
    "train_xcp = X\n",
    "test_xcp = X_test"
   ]
  },
  {
   "cell_type": "markdown",
   "metadata": {
    "id": "4uxjJ_cMA4kG"
   },
   "source": [
    "# Data mining"
   ]
  },
  {
   "cell_type": "markdown",
   "metadata": {
    "id": "dlLAEtaeA4kH"
   },
   "source": [
    "## (1) Neural network"
   ]
  },
  {
   "cell_type": "code",
   "execution_count": 149,
   "metadata": {
    "id": "fEkb4irJA4kH"
   },
   "outputs": [],
   "source": [
    "class BinaryClassifiction(nn.Module):\n",
    "\n",
    "    def __init__(self, dim):\n",
    "        super().__init__()\n",
    "        self.to(device)\n",
    "        self.network = nn.Sequential(\n",
    "            nn.Linear(dim,512),\n",
    "            #nn.BatchNorm1d(512),\n",
    "            nn.Dropout(0.3),\n",
    "            nn.ReLU(),\n",
    "            \n",
    "            nn.Linear(512, 256),\n",
    "            nn.Dropout(0.5),\n",
    "            #nn.BatchNorm1d(256),\n",
    "            nn.ReLU(),\n",
    "            \n",
    "            nn.Linear(256, 64),\n",
    "            nn.Dropout(0.5),\n",
    "            #nn.BatchNorm1d(64),\n",
    "            nn.Tanh(),\n",
    "            \n",
    "            nn.Linear(64, 1),\n",
    "            nn.Sigmoid()\n",
    "            \n",
    "        )\n",
    "        self.loss_fcn = nn.BCELoss(reduction = 'sum')\n",
    "        self.losses = []\n",
    "        self.accuracy = []\n",
    "\n",
    "    def forward(self, x):\n",
    "        prediction = self.network(x)\n",
    "        return (prediction>0.5).float()\n",
    "    \n",
    "    def calc_accuracy(self, dl):\n",
    "        self.eval()\n",
    "        correct = 0\n",
    "        with torch.no_grad():\n",
    "            for x,t in dl:\n",
    "                x.to(device)\n",
    "                t.to(device)\n",
    "                result = self(x)\n",
    "                correct += torch.sum(result == t.unsqueeze(1)).item()\n",
    "        return correct/len(dl.dataset)\n",
    "\n",
    "    def plot(self):\n",
    "        plt.figure(figsize=(15,8))\n",
    "        plt.subplot(2,1,1)\n",
    "        plt.plot(self.losses)\n",
    "        #plt.yscale('log')\n",
    "        plt.subplot(2,1,2)\n",
    "        plt.plot(self.accuracy)\n",
    "        plt.show()\n",
    "    \n",
    "    def learn(self, dl_train, epochs=10, lr = 0.001):\n",
    "        #optimizer_network = torch.optim.SGD(self.network.parameters(), lr=lr, momentum = 0.9)\n",
    "        optimizer_network = torch.optim.Adam(self.network.parameters(), lr=lr)\n",
    "        losses = []\n",
    "        for epoch in (range(epochs)):\n",
    "            self.train()\n",
    "            correct = 0\n",
    "            for x, t in dl_train:\n",
    "                x.to(device)\n",
    "                t.to(device)\n",
    "                \n",
    "                y = self.network(x) # forward pass\n",
    "                loss = self.loss_fcn(y, t.unsqueeze(1))\n",
    "                \n",
    "                correct += torch.sum((y>0.5).float() == t.unsqueeze(1)).item()\n",
    "                \n",
    "                optimizer_network.zero_grad()\n",
    "                loss.backward()\n",
    "                optimizer_network.step()\n",
    "                \n",
    "                self.losses.append(loss)\n",
    "            self.accuracy.append(correct/len(dl_train.dataset))"
   ]
  },
  {
   "cell_type": "code",
   "execution_count": 129,
   "metadata": {
    "id": "0C6p5HxFA4kI"
   },
   "outputs": [],
   "source": [
    "dim = train_xcp.shape[1]\n",
    "if dim != test_xcp.shape[1]:\n",
    "    print('dimension does not match')"
   ]
  },
  {
   "cell_type": "markdown",
   "metadata": {
    "id": "kWNGF1QFA4kJ"
   },
   "source": [
    "## (2) Training"
   ]
  },
  {
   "cell_type": "code",
   "execution_count": 130,
   "metadata": {
    "id": "_sddH_pbA4kK"
   },
   "outputs": [],
   "source": [
    "def train_model(train_xcp, train_y, how_many, bs, lr, epoch):\n",
    "    zero = []\n",
    "    one = []\n",
    "    for i in range(len(train_y)):\n",
    "        if train_y[i] == 1:\n",
    "            one.append(i)\n",
    "        else:\n",
    "            zero.append(i)\n",
    "    index = np.concatenate([np.random.choice(one, how_many, replace = False), np.random.choice(zero, how_many, replace = False)])\n",
    "    selected_train = train_xcp[index]\n",
    "    selected_target = train_y[index]\n",
    "    tensor_x = torch.Tensor(selected_train) # transform to torch tensor\n",
    "    tensor_y = torch.Tensor(selected_target)\n",
    "    my_dataset = TensorDataset(tensor_x,tensor_y)\n",
    "    dll = DataLoader(my_dataset, batch_size = bs, shuffle=True)\n",
    "    net = BinaryClassifiction(dim)\n",
    "    net.learn(dll,epoch,lr)\n",
    "    return net"
   ]
  },
  {
   "cell_type": "markdown",
   "metadata": {},
   "source": [
    "# Adjust model"
   ]
  },
  {
   "cell_type": "code",
   "execution_count": 139,
   "metadata": {
    "colab": {
     "base_uri": "https://localhost:8080/",
     "height": 500
    },
    "id": "Y7ChRxLckr0R",
    "outputId": "7c7ec240-55b6-4672-afc3-83c9df1fe20e"
   },
   "outputs": [
    {
     "data": {
      "image/png": "[encoded data removed]",
      "text/plain": [
       "<Figure size 1080x576 with 2 Axes>"
      ]
     },
     "metadata": {
      "needs_background": "light"
     },
     "output_type": "display_data"
    }
   ],
   "source": [
    "net = train_model(train_xcp, train_y, how_many=40*128, bs=128, lr=0.001, epoch=100)\n",
    "net.plot()"
   ]
  },
  {
   "cell_type": "code",
   "execution_count": 30,
   "metadata": {
    "colab": {
     "base_uri": "https://localhost:8080/"
    },
    "id": "rrTYAUMNA4kK",
    "outputId": "e382a441-c328-4270-ae4a-5ce6585d4bb4"
   },
   "outputs": [],
   "source": [
    "class voters():\n",
    "    def __init__(self, train_xcp, train_y, how_many, bs, lr, epoch, how_many_models, first = True):\n",
    "        self.nets = []\n",
    "        self.how_many_models = how_many_models\n",
    "        self.f = first\n",
    "        for i in tqdm(range(how_many_models)):\n",
    "            net = train_model(train_xcp, train_y, how_many, bs, lr, epoch)\n",
    "            self.nets.append(net)\n",
    "        self.second_voter = None\n",
    "        \n",
    "        if first:\n",
    "            l = self.unsure_list(train_xcp)\n",
    "            l = np.concatenate((np.random.choice(list(range(len(train_xcp))), len(l), replace = False), l))\n",
    "            train2 = train_xcp[l]\n",
    "            target2 = train_y[l] \n",
    "            h_many = round(len(l)*0.05)\n",
    "            self.second_voter = voters(train2, target2, h_many, bs=bs, lr=lr, epoch = epoch, how_many_models=how_many_models, first = False)\n",
    "        \n",
    "    \n",
    "    def validate(self, num, train_xcp, train_y):\n",
    "        ind = np.random.choice(range(len(train_y)), num, replace = False)\n",
    "        val_x = torch.Tensor(train_xcp[ind]) # transform to torch tensor\n",
    "        val_y = train_y[ind]\n",
    "        res = self.final_vote(val_x)\n",
    "        return 1-np.sum(np.abs(res - val_y))/len(val_y)\n",
    "    \n",
    "    def cross_val(self, num, train_xcp, train_y):\n",
    "        l = []\n",
    "        for i in range(10):\n",
    "            l.append(self.validate(num,train_xcp,train_y))\n",
    "        print(l)\n",
    "        print(sum(l)/len(l))\n",
    "        \n",
    "    def vote(self, data):\n",
    "        res = -1\n",
    "        all_x = torch.Tensor(data)\n",
    "        for i in range(len(self.nets)):\n",
    "            if i == 0:\n",
    "                res = self.nets[i](all_x)\n",
    "            else:\n",
    "                res = res + self.nets[i](all_x)\n",
    "        return res\n",
    "    \n",
    "    def final_vote(self, data):\n",
    "        if self.f:\n",
    "            res1 = self.vote(data)\n",
    "            res2 = self.second_voter.vote(data)\n",
    "            res = []\n",
    "            for i in range(len(res1)):\n",
    "                num = res1[i]\n",
    "                if self.unsure_util(num):\n",
    "                    num = res2[i]\n",
    "                res.append(self.zero_one(num))\n",
    "            return np.array(res)\n",
    "                \n",
    "    \n",
    "    def unsure_list(self,data):\n",
    "        unsure_list = []\n",
    "        res = self.vote(data)\n",
    "        for i in range(len(data)):\n",
    "            if self.unsure_util(res[i]):\n",
    "                unsure_list.append(i)\n",
    "        return unsure_list\n",
    "    \n",
    "    def unsure_util(self,num):\n",
    "        return torch.abs(num - self.how_many_models/2) < self.how_many_models/20\n",
    "    \n",
    "    def zero_one(self, num):\n",
    "        if num > self.how_many_models/2:\n",
    "            return 1\n",
    "        return 0"
   ]
  },
  {
   "cell_type": "code",
   "execution_count": 31,
   "metadata": {},
   "outputs": [
    {
     "name": "stderr",
     "output_type": "stream",
     "text": [
      "100%|██████████| 101/101 [00:25<00:00,  3.92it/s]\n",
      "100%|██████████| 101/101 [00:12<00:00,  8.13it/s]\n"
     ]
    }
   ],
   "source": [
    "v = voters(train_xcp, train_y, how_many=30*128, bs=128, lr=0.001, epoch=80, how_many_models = 101, first = True)"
   ]
  },
  {
   "cell_type": "code",
   "execution_count": 32,
   "metadata": {},
   "outputs": [
    {
     "name": "stdout",
     "output_type": "stream",
     "text": [
      "[0.653, 0.661, 0.6890000000000001, 0.663, 0.687, 0.6595, 0.667, 0.6735, 0.6685, 0.6685]\n",
      "0.669\n"
     ]
    }
   ],
   "source": [
    "v.cross_val(2000, train_xcp, train_y)"
   ]
  },
  {
   "cell_type": "code",
   "execution_count": 51,
   "metadata": {},
   "outputs": [],
   "source": [
    "res = v.final_vote(test_xcp)"
   ]
  },
  {
   "cell_type": "code",
   "execution_count": null,
   "metadata": {},
   "outputs": [],
   "source": [
    "# writing\n",
    "index = np.array([list(range(len(test_xcp)))]).T\n",
    "res = np.concatenate((index,np.array([res]).T),axis = 1)\n",
    "np.savetxt('res.csv', res, delimiter=',', fmt=\"%s\")"
   ]
  },
  {
   "cell_type": "code",
   "execution_count": null,
   "metadata": {},
   "outputs": [],
   "source": []
  }
 ],
 "metadata": {
  "accelerator": "GPU",
  "colab": {
   "collapsed_sections": [],
   "name": "Project.ipynb",
   "provenance": []
  },
  "kernelspec": {
   "display_name": "Python 3",
   "language": "python",
   "name": "python3"
  },
  "language_info": {
   "codemirror_mode": {
    "name": "ipython",
    "version": 3
   },
   "file_extension": ".py",
   "mimetype": "text/x-python",
   "name": "python",
   "nbconvert_exporter": "python",
   "pygments_lexer": "ipython3",
   "version": "3.8.5"
  }
 },
 "nbformat": 4,
 "nbformat_minor": 1
}
