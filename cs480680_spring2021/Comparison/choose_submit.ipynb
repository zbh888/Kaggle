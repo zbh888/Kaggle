{
 "cells": [
  {
   "cell_type": "code",
   "execution_count": 6,
   "id": "4872e7f0",
   "metadata": {},
   "outputs": [],
   "source": [
    "import numpy as np\n",
    "import matplotlib.pyplot as plt\n",
    "import copy\n",
    "import pandas as pd"
   ]
  },
  {
   "cell_type": "code",
   "execution_count": 7,
   "id": "95e551ca",
   "metadata": {},
   "outputs": [],
   "source": [
    "a = pd.read_csv(\"res_all_f.csv\")\n",
    "del a['index']\n",
    "b = pd.read_csv(\"res_sel_f.csv\")\n",
    "del b['index']\n",
    "c = pd.read_csv(\"res_voter.csv\")\n",
    "del c['index']\n",
    "d = pd.read_csv(\"res_public_best.csv\")\n",
    "del d['index']\n",
    "\n",
    "all_f = np.array(a) # All feature\n",
    "sel_f = np.array(b) # Selected feature\n",
    "voter = np.array(c) # nn voter\n",
    "pbest = np.array(d) # public best"
   ]
  },
  {
   "cell_type": "code",
   "execution_count": 8,
   "id": "20e2de83",
   "metadata": {},
   "outputs": [
    {
     "name": "stdout",
     "output_type": "stream",
     "text": [
      "0\n",
      "1306\n",
      "2644\n",
      "2044\n",
      "5994\n"
     ]
    }
   ],
   "source": [
    "ref = all_f\n",
    "\n",
    "print(np.sum(ref != all_f)) \n",
    "print(np.sum(ref != sel_f)) \n",
    "print(np.sum(ref != voter)) \n",
    "print(np.sum(ref != pbest)) \n",
    "\n",
    "print(np.sum(ref != all_f) + np.sum(ref != sel_f) + np.sum(ref != voter) + np.sum(ref != pbest))"
   ]
  }
 ],
 "metadata": {
  "kernelspec": {
   "display_name": "Python 3",
   "language": "python",
   "name": "python3"
  },
  "language_info": {
   "codemirror_mode": {
    "name": "ipython",
    "version": 3
   },
   "file_extension": ".py",
   "mimetype": "text/x-python",
   "name": "python",
   "nbconvert_exporter": "python",
   "pygments_lexer": "ipython3",
   "version": "3.8.8"
  }
 },
 "nbformat": 4,
 "nbformat_minor": 5
}
